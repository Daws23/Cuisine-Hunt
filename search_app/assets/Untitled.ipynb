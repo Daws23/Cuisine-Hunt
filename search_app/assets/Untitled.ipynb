{
 "cells": [
  {
   "cell_type": "code",
   "execution_count": 2,
   "id": "c95a8ca1-1281-4aa5-96da-58e4f84d0a42",
   "metadata": {},
   "outputs": [],
   "source": [
    "import pandas as pd\n",
    "import folium\n",
    "\n",
    "data = pd.read_csv(\"restaurants_small.csv\")\n",
    "\n",
    "data[['latitude', 'longitude']] = data['lat_long'].str.split(',', expand=True).astype(float)\n",
    "map_center = [data['latitude'].mean(), data['longitude'].mean()]\n",
    "m = folium.Map(location=map_center, zoom_start=12)\n",
    "\n",
    "for i, row in data.iterrows():\n",
    "    location = [row['latitude'], row['longitude']]\n",
    "    if pd.isnull(row).any():\n",
    "        folium.Marker(location, popup=row['name'], icon=folium.Icon(color='red')).add_to(m)\n",
    "    else:\n",
    "        folium.Marker(location, popup=row['name'], icon=folium.Icon(color='blue')).add_to(m)\n",
    "\n",
    "\n",
    "m.save('restaurants_map.html')\n"
   ]
  },
  {
   "cell_type": "code",
   "execution_count": 3,
   "id": "dcd5554b-5b0f-4981-8683-f50d8d478558",
   "metadata": {},
   "outputs": [
    {
     "name": "stdout",
     "output_type": "stream",
     "text": [
      "<class 'pandas.core.frame.DataFrame'>\n",
      "RangeIndex: 478 entries, 0 to 477\n",
      "Data columns (total 8 columns):\n",
      " #   Column        Non-Null Count  Dtype  \n",
      "---  ------        --------------  -----  \n",
      " 0   id            478 non-null    int64  \n",
      " 1   name          478 non-null    object \n",
      " 2   location      478 non-null    object \n",
      " 3   items         478 non-null    object \n",
      " 4   lat_long      478 non-null    object \n",
      " 5   full_details  478 non-null    object \n",
      " 6   latitude      478 non-null    float64\n",
      " 7   longitude     478 non-null    float64\n",
      "dtypes: float64(2), int64(1), object(5)\n",
      "memory usage: 30.0+ KB\n"
     ]
    }
   ],
   "source": [
    "data_cleaned = data.dropna()\n",
    "data_cleaned.to_csv(\"restaurants_small.csv\", index=False)\n",
    "\n",
    "data_cleaned.info()"
   ]
  },
  {
   "cell_type": "code",
   "execution_count": 10,
   "id": "e89410d7",
   "metadata": {},
   "outputs": [
    {
     "data": {
      "text/plain": [
       "'{\"name\": \"Caffe Pascucci\", \"offers\": [], \"cuisines\": \"Beverages, Cafe, Desserts, Pizza, Italian, Continental\", \"currency\": \"Rs.\", \"location\": {\"city\": \"Bangalore\", \"address\": \"17/J, 18th Cross, Sector 3, HSR, Bangalore\", \"city_id\": 4, \"zipcode\": \"\", \"latitude\": \"12.9116981487\", \"locality\": \"HSR\", \"longitude\": \"77.6428555325\", \"country_id\": 1, \"locality_verbose\": \"HSR, Bangalore\"}, \"price_range\": 2, \"user_rating\": {\"votes\": \"639\", \"rating_text\": \"Very Good\", \"rating_color\": \"5BA829\", \"aggregate_rating\": \"4.0\"}, \"medio_provider\": 1, \"mezzo_provider\": \"OTHER\", \"order_deeplink\": \"\", \"has_table_booking\": 1, \"is_delivering_now\": 1, \"opentable_support\": 0, \"has_online_delivery\": 1, \"include_bogo_offers\": true, \"average_cost_for_two\": 950, \"switch_to_order_menu\": 0, \"is_book_form_web_view\": 0, \"book_form_web_view_url\": \"\", \"is_table_reservation_supported\": 1}'"
      ]
     },
     "execution_count": 10,
     "metadata": {},
     "output_type": "execute_result"
    }
   ],
   "source": [
    "data_cleaned[\"full_details\"][80]"
   ]
  }
 ],
 "metadata": {
  "kernelspec": {
   "display_name": "Python 3 (ipykernel)",
   "language": "python",
   "name": "python3"
  },
  "language_info": {
   "codemirror_mode": {
    "name": "ipython",
    "version": 3
   },
   "file_extension": ".py",
   "mimetype": "text/x-python",
   "name": "python",
   "nbconvert_exporter": "python",
   "pygments_lexer": "ipython3",
   "version": "3.11.4"
  }
 },
 "nbformat": 4,
 "nbformat_minor": 5
}
